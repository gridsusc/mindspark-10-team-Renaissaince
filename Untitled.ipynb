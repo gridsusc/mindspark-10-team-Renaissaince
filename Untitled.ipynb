{
 "cells": [
  {
   "cell_type": "code",
   "execution_count": 13,
   "id": "fffe010b",
   "metadata": {
    "scrolled": true
   },
   "outputs": [],
   "source": [
    "import pandas as pd"
   ]
  },
  {
   "cell_type": "code",
   "execution_count": 183,
   "id": "6f679755",
   "metadata": {
    "scrolled": false
   },
   "outputs": [
    {
     "data": {
      "text/html": [
       "<div>\n",
       "<style scoped>\n",
       "    .dataframe tbody tr th:only-of-type {\n",
       "        vertical-align: middle;\n",
       "    }\n",
       "\n",
       "    .dataframe tbody tr th {\n",
       "        vertical-align: top;\n",
       "    }\n",
       "\n",
       "    .dataframe thead th {\n",
       "        text-align: right;\n",
       "    }\n",
       "</style>\n",
       "<table border=\"1\" class=\"dataframe\">\n",
       "  <thead>\n",
       "    <tr style=\"text-align: right;\">\n",
       "      <th></th>\n",
       "      <th>id</th>\n",
       "      <th>song</th>\n",
       "      <th>artist</th>\n",
       "      <th>album</th>\n",
       "      <th>popularity</th>\n",
       "      <th>duration</th>\n",
       "      <th>emotion</th>\n",
       "      <th>danceability</th>\n",
       "      <th>energy</th>\n",
       "      <th>key</th>\n",
       "      <th>loudness</th>\n",
       "      <th>mode</th>\n",
       "      <th>speechiness</th>\n",
       "      <th>acousticness</th>\n",
       "      <th>instrumentalness</th>\n",
       "      <th>liveness</th>\n",
       "      <th>valance</th>\n",
       "      <th>tempo</th>\n",
       "    </tr>\n",
       "  </thead>\n",
       "  <tbody>\n",
       "    <tr>\n",
       "      <th>0</th>\n",
       "      <td>2vBF8A6n0REigm7RSUM65S</td>\n",
       "      <td>The A Team</td>\n",
       "      <td>Ed Sheeran</td>\n",
       "      <td>The A Team</td>\n",
       "      <td>22</td>\n",
       "      <td>258588</td>\n",
       "      <td>sad</td>\n",
       "      <td>0.626</td>\n",
       "      <td>0.2860</td>\n",
       "      <td>9</td>\n",
       "      <td>-9.933</td>\n",
       "      <td>1</td>\n",
       "      <td>0.0374</td>\n",
       "      <td>0.678</td>\n",
       "      <td>0.000000</td>\n",
       "      <td>0.134</td>\n",
       "      <td>0.3660</td>\n",
       "      <td>84.954</td>\n",
       "    </tr>\n",
       "    <tr>\n",
       "      <th>1</th>\n",
       "      <td>7lPN2DXiMsVn7XUKtOW1CS</td>\n",
       "      <td>drivers license</td>\n",
       "      <td>Olivia Rodrigo</td>\n",
       "      <td>drivers license</td>\n",
       "      <td>33</td>\n",
       "      <td>242013</td>\n",
       "      <td>sad</td>\n",
       "      <td>0.585</td>\n",
       "      <td>0.4360</td>\n",
       "      <td>10</td>\n",
       "      <td>-8.761</td>\n",
       "      <td>1</td>\n",
       "      <td>0.0601</td>\n",
       "      <td>0.721</td>\n",
       "      <td>0.000013</td>\n",
       "      <td>0.105</td>\n",
       "      <td>0.1320</td>\n",
       "      <td>143.874</td>\n",
       "    </tr>\n",
       "    <tr>\n",
       "      <th>2</th>\n",
       "      <td>7jtQIBanIiJOMS6RyCx6jZ</td>\n",
       "      <td>Another Love</td>\n",
       "      <td>Tom Odell</td>\n",
       "      <td>Long Way Down</td>\n",
       "      <td>57</td>\n",
       "      <td>244360</td>\n",
       "      <td>sad</td>\n",
       "      <td>0.442</td>\n",
       "      <td>0.5380</td>\n",
       "      <td>4</td>\n",
       "      <td>-8.550</td>\n",
       "      <td>0</td>\n",
       "      <td>0.0451</td>\n",
       "      <td>0.717</td>\n",
       "      <td>0.000029</td>\n",
       "      <td>0.090</td>\n",
       "      <td>0.1390</td>\n",
       "      <td>122.758</td>\n",
       "    </tr>\n",
       "    <tr>\n",
       "      <th>3</th>\n",
       "      <td>4Of7rzpRpV1mWRbhp5rAqG</td>\n",
       "      <td>Bruises</td>\n",
       "      <td>Lewis Capaldi</td>\n",
       "      <td>Divinely Uninspired To A Hellish Extent</td>\n",
       "      <td>81</td>\n",
       "      <td>220492</td>\n",
       "      <td>sad</td>\n",
       "      <td>0.736</td>\n",
       "      <td>0.3080</td>\n",
       "      <td>4</td>\n",
       "      <td>-7.830</td>\n",
       "      <td>1</td>\n",
       "      <td>0.0677</td>\n",
       "      <td>0.946</td>\n",
       "      <td>0.000000</td>\n",
       "      <td>0.186</td>\n",
       "      <td>0.3610</td>\n",
       "      <td>111.202</td>\n",
       "    </tr>\n",
       "    <tr>\n",
       "      <th>4</th>\n",
       "      <td>09u787BYeYIGd2mFIJ505t</td>\n",
       "      <td>Cry Your Heart Out</td>\n",
       "      <td>Adele</td>\n",
       "      <td>30</td>\n",
       "      <td>72</td>\n",
       "      <td>255278</td>\n",
       "      <td>sad</td>\n",
       "      <td>0.756</td>\n",
       "      <td>0.7130</td>\n",
       "      <td>7</td>\n",
       "      <td>-6.917</td>\n",
       "      <td>1</td>\n",
       "      <td>0.1020</td>\n",
       "      <td>0.523</td>\n",
       "      <td>0.000003</td>\n",
       "      <td>0.248</td>\n",
       "      <td>0.5900</td>\n",
       "      <td>125.064</td>\n",
       "    </tr>\n",
       "    <tr>\n",
       "      <th>...</th>\n",
       "      <td>...</td>\n",
       "      <td>...</td>\n",
       "      <td>...</td>\n",
       "      <td>...</td>\n",
       "      <td>...</td>\n",
       "      <td>...</td>\n",
       "      <td>...</td>\n",
       "      <td>...</td>\n",
       "      <td>...</td>\n",
       "      <td>...</td>\n",
       "      <td>...</td>\n",
       "      <td>...</td>\n",
       "      <td>...</td>\n",
       "      <td>...</td>\n",
       "      <td>...</td>\n",
       "      <td>...</td>\n",
       "      <td>...</td>\n",
       "      <td>...</td>\n",
       "    </tr>\n",
       "    <tr>\n",
       "      <th>481</th>\n",
       "      <td>06X1J1lPc0boVEpxG6UOCB</td>\n",
       "      <td>Requiem On Frankfort Ave</td>\n",
       "      <td>Eluvium</td>\n",
       "      <td>Copia</td>\n",
       "      <td>0</td>\n",
       "      <td>161026</td>\n",
       "      <td>calm</td>\n",
       "      <td>0.112</td>\n",
       "      <td>0.0657</td>\n",
       "      <td>2</td>\n",
       "      <td>-19.837</td>\n",
       "      <td>1</td>\n",
       "      <td>0.0495</td>\n",
       "      <td>0.947</td>\n",
       "      <td>0.931000</td>\n",
       "      <td>0.112</td>\n",
       "      <td>0.0354</td>\n",
       "      <td>56.750</td>\n",
       "    </tr>\n",
       "    <tr>\n",
       "      <th>482</th>\n",
       "      <td>7aS8e5XKVWDcbyn06mF9fz</td>\n",
       "      <td>Candles</td>\n",
       "      <td>Jon Hopkins</td>\n",
       "      <td>Monsters (Original Motion Picture Soundtrack)</td>\n",
       "      <td>54</td>\n",
       "      <td>148546</td>\n",
       "      <td>calm</td>\n",
       "      <td>0.298</td>\n",
       "      <td>0.1480</td>\n",
       "      <td>3</td>\n",
       "      <td>-26.245</td>\n",
       "      <td>0</td>\n",
       "      <td>0.0438</td>\n",
       "      <td>0.868</td>\n",
       "      <td>0.843000</td>\n",
       "      <td>0.110</td>\n",
       "      <td>0.0603</td>\n",
       "      <td>108.658</td>\n",
       "    </tr>\n",
       "    <tr>\n",
       "      <th>483</th>\n",
       "      <td>1TCkrnjuurf0DNLLoJxVyd</td>\n",
       "      <td>Poa Alpina</td>\n",
       "      <td>Biosphere</td>\n",
       "      <td>Substrata</td>\n",
       "      <td>0</td>\n",
       "      <td>250961</td>\n",
       "      <td>calm</td>\n",
       "      <td>0.171</td>\n",
       "      <td>0.0284</td>\n",
       "      <td>7</td>\n",
       "      <td>-35.244</td>\n",
       "      <td>0</td>\n",
       "      <td>0.0374</td>\n",
       "      <td>0.911</td>\n",
       "      <td>0.946000</td>\n",
       "      <td>0.119</td>\n",
       "      <td>0.1280</td>\n",
       "      <td>130.284</td>\n",
       "    </tr>\n",
       "    <tr>\n",
       "      <th>484</th>\n",
       "      <td>4o7YmNo3syL8mtvHNhwDuL</td>\n",
       "      <td>Untitled #3 (Samskeyti)</td>\n",
       "      <td>Sigur Rós</td>\n",
       "      <td>( )</td>\n",
       "      <td>0</td>\n",
       "      <td>393400</td>\n",
       "      <td>calm</td>\n",
       "      <td>0.115</td>\n",
       "      <td>0.2040</td>\n",
       "      <td>3</td>\n",
       "      <td>-14.414</td>\n",
       "      <td>1</td>\n",
       "      <td>0.0313</td>\n",
       "      <td>0.802</td>\n",
       "      <td>0.901000</td>\n",
       "      <td>0.105</td>\n",
       "      <td>0.0374</td>\n",
       "      <td>90.385</td>\n",
       "    </tr>\n",
       "    <tr>\n",
       "      <th>485</th>\n",
       "      <td>08adWEXNC4zjhKZZuAVMo5</td>\n",
       "      <td>Beyond the Sky</td>\n",
       "      <td>Emilio Bonito</td>\n",
       "      <td>Beyond the Sky</td>\n",
       "      <td>22</td>\n",
       "      <td>212000</td>\n",
       "      <td>calm</td>\n",
       "      <td>0.509</td>\n",
       "      <td>0.3950</td>\n",
       "      <td>9</td>\n",
       "      <td>-13.630</td>\n",
       "      <td>1</td>\n",
       "      <td>0.0322</td>\n",
       "      <td>0.353</td>\n",
       "      <td>0.909000</td>\n",
       "      <td>0.105</td>\n",
       "      <td>0.0651</td>\n",
       "      <td>144.025</td>\n",
       "    </tr>\n",
       "  </tbody>\n",
       "</table>\n",
       "<p>486 rows × 18 columns</p>\n",
       "</div>"
      ],
      "text/plain": [
       "                         id                      song          artist  \\\n",
       "0    2vBF8A6n0REigm7RSUM65S                The A Team      Ed Sheeran   \n",
       "1    7lPN2DXiMsVn7XUKtOW1CS           drivers license  Olivia Rodrigo   \n",
       "2    7jtQIBanIiJOMS6RyCx6jZ              Another Love       Tom Odell   \n",
       "3    4Of7rzpRpV1mWRbhp5rAqG                   Bruises   Lewis Capaldi   \n",
       "4    09u787BYeYIGd2mFIJ505t        Cry Your Heart Out           Adele   \n",
       "..                      ...                       ...             ...   \n",
       "481  06X1J1lPc0boVEpxG6UOCB  Requiem On Frankfort Ave         Eluvium   \n",
       "482  7aS8e5XKVWDcbyn06mF9fz                   Candles     Jon Hopkins   \n",
       "483  1TCkrnjuurf0DNLLoJxVyd                Poa Alpina       Biosphere   \n",
       "484  4o7YmNo3syL8mtvHNhwDuL   Untitled #3 (Samskeyti)       Sigur Rós   \n",
       "485  08adWEXNC4zjhKZZuAVMo5            Beyond the Sky   Emilio Bonito   \n",
       "\n",
       "                                             album  popularity  duration  \\\n",
       "0                                       The A Team          22    258588   \n",
       "1                                  drivers license          33    242013   \n",
       "2                                    Long Way Down          57    244360   \n",
       "3          Divinely Uninspired To A Hellish Extent          81    220492   \n",
       "4                                               30          72    255278   \n",
       "..                                             ...         ...       ...   \n",
       "481                                          Copia           0    161026   \n",
       "482  Monsters (Original Motion Picture Soundtrack)          54    148546   \n",
       "483                                      Substrata           0    250961   \n",
       "484                                            ( )           0    393400   \n",
       "485                                 Beyond the Sky          22    212000   \n",
       "\n",
       "    emotion  danceability  energy  key  loudness  mode  speechiness  \\\n",
       "0       sad         0.626  0.2860    9    -9.933     1       0.0374   \n",
       "1       sad         0.585  0.4360   10    -8.761     1       0.0601   \n",
       "2       sad         0.442  0.5380    4    -8.550     0       0.0451   \n",
       "3       sad         0.736  0.3080    4    -7.830     1       0.0677   \n",
       "4       sad         0.756  0.7130    7    -6.917     1       0.1020   \n",
       "..      ...           ...     ...  ...       ...   ...          ...   \n",
       "481    calm         0.112  0.0657    2   -19.837     1       0.0495   \n",
       "482    calm         0.298  0.1480    3   -26.245     0       0.0438   \n",
       "483    calm         0.171  0.0284    7   -35.244     0       0.0374   \n",
       "484    calm         0.115  0.2040    3   -14.414     1       0.0313   \n",
       "485    calm         0.509  0.3950    9   -13.630     1       0.0322   \n",
       "\n",
       "     acousticness  instrumentalness  liveness  valance    tempo  \n",
       "0           0.678          0.000000     0.134   0.3660   84.954  \n",
       "1           0.721          0.000013     0.105   0.1320  143.874  \n",
       "2           0.717          0.000029     0.090   0.1390  122.758  \n",
       "3           0.946          0.000000     0.186   0.3610  111.202  \n",
       "4           0.523          0.000003     0.248   0.5900  125.064  \n",
       "..            ...               ...       ...      ...      ...  \n",
       "481         0.947          0.931000     0.112   0.0354   56.750  \n",
       "482         0.868          0.843000     0.110   0.0603  108.658  \n",
       "483         0.911          0.946000     0.119   0.1280  130.284  \n",
       "484         0.802          0.901000     0.105   0.0374   90.385  \n",
       "485         0.353          0.909000     0.105   0.0651  144.025  \n",
       "\n",
       "[486 rows x 18 columns]"
      ]
     },
     "execution_count": 183,
     "metadata": {},
     "output_type": "execute_result"
    }
   ],
   "source": [
    "data = pd.read_csv(\"songs.csv\")\n",
    "data"
   ]
  },
  {
   "cell_type": "code",
   "execution_count": 184,
   "id": "01c2e38c",
   "metadata": {},
   "outputs": [],
   "source": [
    "from sklearn.model_selection import train_test_split\n",
    "X = data[[\"energy\", \"liveness\", \"tempo\", \"speechiness\",\"acousticness\",\"instrumentalness\",\"danceability\", \"loudness\",\"valance\"]]\n",
    "# X = data[[\"danceability\",\"energy\",\"key\",\"loudness\",\"mode\",\"speechiness\",\"acousticness\",\n",
    "# \"instrumentalness\", \"liveness\", \"valance\", \"tempo\"]]\n",
    "y = data[\"emotion\"]\n",
    "X_train, X_test, y_train, y_test = train_test_split(X, y, test_size=0.33, random_state=42)"
   ]
  },
  {
   "cell_type": "code",
   "execution_count": 185,
   "id": "5c5f3d64",
   "metadata": {},
   "outputs": [
    {
     "data": {
      "text/plain": [
       "energy  liveness  tempo    speechiness  acousticness  instrumentalness  danceability  loudness  valance\n",
       "0.317   0.0962    71.113   0.0448       0.900         0.000000          0.4550        -8.031    0.4400     3\n",
       "0.187   0.1060    85.962   0.0347       0.988         0.001970          0.2350        -12.754   0.1180     3\n",
       "0.182   0.1530    156.763  0.0330       0.818         0.068800          0.2740        -16.843   0.0973     3\n",
       "0.417   0.1130    138.178  0.0338       0.164         0.001960          0.2090        -8.740    0.1240     3\n",
       "0.420   0.1510    126.022  0.0468       0.519         0.000000          0.8390        -11.375   0.5680     3\n",
       "                                                                                                          ..\n",
       "0.314   0.0947    119.989  0.0317       0.914         0.945000          0.4860        -20.700   0.1360     1\n",
       "0.316   0.1510    68.815   0.0412       0.582         0.957000          0.0785        -14.861   0.0498     1\n",
       "0.321   0.0996    135.047  0.0280       0.893         0.000000          0.5540        -8.251    0.2880     1\n",
       "0.328   0.1030    74.953   0.0290       0.768         0.000025          0.6290        -8.284    0.3890     1\n",
       "0.978   0.1500    168.026  0.1380       0.072         0.000013          0.3080        -7.614    0.6130     1\n",
       "Length: 221, dtype: int64"
      ]
     },
     "execution_count": 185,
     "metadata": {},
     "output_type": "execute_result"
    }
   ],
   "source": [
    "X_train.value_counts()"
   ]
  },
  {
   "cell_type": "code",
   "execution_count": 186,
   "id": "7f746d66",
   "metadata": {},
   "outputs": [
    {
     "data": {
      "text/plain": [
       "happy      76\n",
       "angry      73\n",
       "fearful    70\n",
       "sad        54\n",
       "calm       52\n",
       "Name: emotion, dtype: int64"
      ]
     },
     "execution_count": 186,
     "metadata": {},
     "output_type": "execute_result"
    }
   ],
   "source": [
    "y_train.value_counts()"
   ]
  },
  {
   "cell_type": "code",
   "execution_count": 187,
   "id": "0d1a290b",
   "metadata": {},
   "outputs": [
    {
     "data": {
      "text/plain": [
       "sad        46\n",
       "calm       34\n",
       "fearful    30\n",
       "angry      27\n",
       "happy      24\n",
       "Name: emotion, dtype: int64"
      ]
     },
     "execution_count": 187,
     "metadata": {},
     "output_type": "execute_result"
    }
   ],
   "source": [
    "y_test.value_counts()"
   ]
  },
  {
   "cell_type": "code",
   "execution_count": 172,
   "id": "ebfb48e9",
   "metadata": {},
   "outputs": [
    {
     "name": "stdout",
     "output_type": "stream",
     "text": [
      "Requirement already satisfied: xgboost in c:\\users\\truon\\anaconda3\\lib\\site-packages (1.5.0)\n",
      "Requirement already satisfied: scipy in c:\\users\\truon\\anaconda3\\lib\\site-packages (from xgboost) (1.6.2)\n",
      "Requirement already satisfied: numpy in c:\\users\\truon\\anaconda3\\lib\\site-packages (from xgboost) (1.20.1)\n"
     ]
    }
   ],
   "source": [
    "!pip install xgboost"
   ]
  },
  {
   "cell_type": "code",
   "execution_count": 149,
   "id": "24652e41",
   "metadata": {},
   "outputs": [],
   "source": [
    "from xgboost import XGBClassifier\n",
    "from sklearn.model_selection import train_test_split\n",
    "from sklearn.metrics import accuracy_score"
   ]
  },
  {
   "cell_type": "code",
   "execution_count": 188,
   "id": "b9ee8dff",
   "metadata": {
    "scrolled": true
   },
   "outputs": [
    {
     "name": "stderr",
     "output_type": "stream",
     "text": [
      "C:\\Users\\truon\\anaconda3\\lib\\site-packages\\xgboost\\sklearn.py:1224: UserWarning: The use of label encoder in XGBClassifier is deprecated and will be removed in a future release. To remove this warning, do the following: 1) Pass option use_label_encoder=False when constructing XGBClassifier object; and 2) Encode your labels (y) as integers starting with 0, i.e. 0, 1, 2, ..., [num_class - 1].\n",
      "  warnings.warn(label_encoder_deprecation_msg, UserWarning)\n"
     ]
    },
    {
     "name": "stdout",
     "output_type": "stream",
     "text": [
      "[21:09:56] WARNING: C:/Users/Administrator/workspace/xgboost-win64_release_1.5.0/src/learner.cc:1115: Starting in XGBoost 1.3.0, the default evaluation metric used with the objective 'multi:softprob' was changed from 'merror' to 'mlogloss'. Explicitly set eval_metric if you'd like to restore the old behavior.\n",
      "Accuracy: 0.39751552795031053\n"
     ]
    }
   ],
   "source": [
    "model = XGBClassifier()\n",
    "model.fit(X_train, y_train)\n",
    "# make predictions for test data\n",
    "y_pred = model.predict(X_test)\n",
    "# evaluate predictions\n",
    "print(\"Accuracy:\",metrics.accuracy_score(y_test, y_pred))"
   ]
  },
  {
   "cell_type": "code",
   "execution_count": 115,
   "id": "fc5c45fd",
   "metadata": {},
   "outputs": [],
   "source": [
    "from sklearn.ensemble import RandomForestClassifier\n",
    "from sklearn.metrics import classification_report,accuracy_score\n",
    "from sklearn import metrics "
   ]
  },
  {
   "cell_type": "code",
   "execution_count": 189,
   "id": "748776a1",
   "metadata": {},
   "outputs": [
    {
     "name": "stdout",
     "output_type": "stream",
     "text": [
      "Accuracy: 0.39751552795031053\n"
     ]
    },
    {
     "ename": "ValueError",
     "evalue": "Target is multiclass but average='binary'. Please choose another average setting, one of [None, 'micro', 'macro', 'weighted'].",
     "output_type": "error",
     "traceback": [
      "\u001b[1;31m---------------------------------------------------------------------------\u001b[0m",
      "\u001b[1;31mValueError\u001b[0m                                Traceback (most recent call last)",
      "\u001b[1;32m<ipython-input-189-9d35fa9461ca>\u001b[0m in \u001b[0;36m<module>\u001b[1;34m\u001b[0m\n\u001b[0;32m      3\u001b[0m \u001b[0my_pred\u001b[0m \u001b[1;33m=\u001b[0m \u001b[0mrfc\u001b[0m\u001b[1;33m.\u001b[0m\u001b[0mpredict\u001b[0m\u001b[1;33m(\u001b[0m\u001b[0mX_test\u001b[0m\u001b[1;33m)\u001b[0m\u001b[1;33m\u001b[0m\u001b[1;33m\u001b[0m\u001b[0m\n\u001b[0;32m      4\u001b[0m \u001b[0mprint\u001b[0m\u001b[1;33m(\u001b[0m\u001b[1;34m\"Accuracy:\"\u001b[0m\u001b[1;33m,\u001b[0m\u001b[0mmetrics\u001b[0m\u001b[1;33m.\u001b[0m\u001b[0maccuracy_score\u001b[0m\u001b[1;33m(\u001b[0m\u001b[0my_test\u001b[0m\u001b[1;33m,\u001b[0m \u001b[0my_pred\u001b[0m\u001b[1;33m)\u001b[0m\u001b[1;33m)\u001b[0m\u001b[1;33m\u001b[0m\u001b[1;33m\u001b[0m\u001b[0m\n\u001b[1;32m----> 5\u001b[1;33m \u001b[0mprint\u001b[0m\u001b[1;33m(\u001b[0m\u001b[1;34m\"Precision:\"\u001b[0m\u001b[1;33m,\u001b[0m\u001b[0mmetrics\u001b[0m\u001b[1;33m.\u001b[0m\u001b[0mprecision_score\u001b[0m\u001b[1;33m(\u001b[0m\u001b[0my_test\u001b[0m\u001b[1;33m,\u001b[0m \u001b[0my_pred\u001b[0m\u001b[1;33m)\u001b[0m\u001b[1;33m)\u001b[0m\u001b[1;33m\u001b[0m\u001b[1;33m\u001b[0m\u001b[0m\n\u001b[0m\u001b[0;32m      6\u001b[0m \u001b[0mprint\u001b[0m\u001b[1;33m(\u001b[0m\u001b[1;34m\"Recall:\"\u001b[0m\u001b[1;33m,\u001b[0m\u001b[0mmetrics\u001b[0m\u001b[1;33m.\u001b[0m\u001b[0mrecall_score\u001b[0m\u001b[1;33m(\u001b[0m\u001b[0my_test\u001b[0m\u001b[1;33m,\u001b[0m \u001b[0my_pred\u001b[0m\u001b[1;33m)\u001b[0m\u001b[1;33m)\u001b[0m\u001b[1;33m\u001b[0m\u001b[1;33m\u001b[0m\u001b[0m\n",
      "\u001b[1;32m~\\anaconda3\\lib\\site-packages\\sklearn\\utils\\validation.py\u001b[0m in \u001b[0;36minner_f\u001b[1;34m(*args, **kwargs)\u001b[0m\n\u001b[0;32m     61\u001b[0m             \u001b[0mextra_args\u001b[0m \u001b[1;33m=\u001b[0m \u001b[0mlen\u001b[0m\u001b[1;33m(\u001b[0m\u001b[0margs\u001b[0m\u001b[1;33m)\u001b[0m \u001b[1;33m-\u001b[0m \u001b[0mlen\u001b[0m\u001b[1;33m(\u001b[0m\u001b[0mall_args\u001b[0m\u001b[1;33m)\u001b[0m\u001b[1;33m\u001b[0m\u001b[1;33m\u001b[0m\u001b[0m\n\u001b[0;32m     62\u001b[0m             \u001b[1;32mif\u001b[0m \u001b[0mextra_args\u001b[0m \u001b[1;33m<=\u001b[0m \u001b[1;36m0\u001b[0m\u001b[1;33m:\u001b[0m\u001b[1;33m\u001b[0m\u001b[1;33m\u001b[0m\u001b[0m\n\u001b[1;32m---> 63\u001b[1;33m                 \u001b[1;32mreturn\u001b[0m \u001b[0mf\u001b[0m\u001b[1;33m(\u001b[0m\u001b[1;33m*\u001b[0m\u001b[0margs\u001b[0m\u001b[1;33m,\u001b[0m \u001b[1;33m**\u001b[0m\u001b[0mkwargs\u001b[0m\u001b[1;33m)\u001b[0m\u001b[1;33m\u001b[0m\u001b[1;33m\u001b[0m\u001b[0m\n\u001b[0m\u001b[0;32m     64\u001b[0m \u001b[1;33m\u001b[0m\u001b[0m\n\u001b[0;32m     65\u001b[0m             \u001b[1;31m# extra_args > 0\u001b[0m\u001b[1;33m\u001b[0m\u001b[1;33m\u001b[0m\u001b[1;33m\u001b[0m\u001b[0m\n",
      "\u001b[1;32m~\\anaconda3\\lib\\site-packages\\sklearn\\metrics\\_classification.py\u001b[0m in \u001b[0;36mprecision_score\u001b[1;34m(y_true, y_pred, labels, pos_label, average, sample_weight, zero_division)\u001b[0m\n\u001b[0;32m   1651\u001b[0m \u001b[1;33m\u001b[0m\u001b[0m\n\u001b[0;32m   1652\u001b[0m     \"\"\"\n\u001b[1;32m-> 1653\u001b[1;33m     p, _, _, _ = precision_recall_fscore_support(y_true, y_pred,\n\u001b[0m\u001b[0;32m   1654\u001b[0m                                                  \u001b[0mlabels\u001b[0m\u001b[1;33m=\u001b[0m\u001b[0mlabels\u001b[0m\u001b[1;33m,\u001b[0m\u001b[1;33m\u001b[0m\u001b[1;33m\u001b[0m\u001b[0m\n\u001b[0;32m   1655\u001b[0m                                                  \u001b[0mpos_label\u001b[0m\u001b[1;33m=\u001b[0m\u001b[0mpos_label\u001b[0m\u001b[1;33m,\u001b[0m\u001b[1;33m\u001b[0m\u001b[1;33m\u001b[0m\u001b[0m\n",
      "\u001b[1;32m~\\anaconda3\\lib\\site-packages\\sklearn\\utils\\validation.py\u001b[0m in \u001b[0;36minner_f\u001b[1;34m(*args, **kwargs)\u001b[0m\n\u001b[0;32m     61\u001b[0m             \u001b[0mextra_args\u001b[0m \u001b[1;33m=\u001b[0m \u001b[0mlen\u001b[0m\u001b[1;33m(\u001b[0m\u001b[0margs\u001b[0m\u001b[1;33m)\u001b[0m \u001b[1;33m-\u001b[0m \u001b[0mlen\u001b[0m\u001b[1;33m(\u001b[0m\u001b[0mall_args\u001b[0m\u001b[1;33m)\u001b[0m\u001b[1;33m\u001b[0m\u001b[1;33m\u001b[0m\u001b[0m\n\u001b[0;32m     62\u001b[0m             \u001b[1;32mif\u001b[0m \u001b[0mextra_args\u001b[0m \u001b[1;33m<=\u001b[0m \u001b[1;36m0\u001b[0m\u001b[1;33m:\u001b[0m\u001b[1;33m\u001b[0m\u001b[1;33m\u001b[0m\u001b[0m\n\u001b[1;32m---> 63\u001b[1;33m                 \u001b[1;32mreturn\u001b[0m \u001b[0mf\u001b[0m\u001b[1;33m(\u001b[0m\u001b[1;33m*\u001b[0m\u001b[0margs\u001b[0m\u001b[1;33m,\u001b[0m \u001b[1;33m**\u001b[0m\u001b[0mkwargs\u001b[0m\u001b[1;33m)\u001b[0m\u001b[1;33m\u001b[0m\u001b[1;33m\u001b[0m\u001b[0m\n\u001b[0m\u001b[0;32m     64\u001b[0m \u001b[1;33m\u001b[0m\u001b[0m\n\u001b[0;32m     65\u001b[0m             \u001b[1;31m# extra_args > 0\u001b[0m\u001b[1;33m\u001b[0m\u001b[1;33m\u001b[0m\u001b[1;33m\u001b[0m\u001b[0m\n",
      "\u001b[1;32m~\\anaconda3\\lib\\site-packages\\sklearn\\metrics\\_classification.py\u001b[0m in \u001b[0;36mprecision_recall_fscore_support\u001b[1;34m(y_true, y_pred, beta, labels, pos_label, average, warn_for, sample_weight, zero_division)\u001b[0m\n\u001b[0;32m   1459\u001b[0m     \u001b[1;32mif\u001b[0m \u001b[0mbeta\u001b[0m \u001b[1;33m<\u001b[0m \u001b[1;36m0\u001b[0m\u001b[1;33m:\u001b[0m\u001b[1;33m\u001b[0m\u001b[1;33m\u001b[0m\u001b[0m\n\u001b[0;32m   1460\u001b[0m         \u001b[1;32mraise\u001b[0m \u001b[0mValueError\u001b[0m\u001b[1;33m(\u001b[0m\u001b[1;34m\"beta should be >=0 in the F-beta score\"\u001b[0m\u001b[1;33m)\u001b[0m\u001b[1;33m\u001b[0m\u001b[1;33m\u001b[0m\u001b[0m\n\u001b[1;32m-> 1461\u001b[1;33m     labels = _check_set_wise_labels(y_true, y_pred, average, labels,\n\u001b[0m\u001b[0;32m   1462\u001b[0m                                     pos_label)\n\u001b[0;32m   1463\u001b[0m \u001b[1;33m\u001b[0m\u001b[0m\n",
      "\u001b[1;32m~\\anaconda3\\lib\\site-packages\\sklearn\\metrics\\_classification.py\u001b[0m in \u001b[0;36m_check_set_wise_labels\u001b[1;34m(y_true, y_pred, average, labels, pos_label)\u001b[0m\n\u001b[0;32m   1289\u001b[0m             \u001b[1;32mif\u001b[0m \u001b[0my_type\u001b[0m \u001b[1;33m==\u001b[0m \u001b[1;34m'multiclass'\u001b[0m\u001b[1;33m:\u001b[0m\u001b[1;33m\u001b[0m\u001b[1;33m\u001b[0m\u001b[0m\n\u001b[0;32m   1290\u001b[0m                 \u001b[0maverage_options\u001b[0m\u001b[1;33m.\u001b[0m\u001b[0mremove\u001b[0m\u001b[1;33m(\u001b[0m\u001b[1;34m'samples'\u001b[0m\u001b[1;33m)\u001b[0m\u001b[1;33m\u001b[0m\u001b[1;33m\u001b[0m\u001b[0m\n\u001b[1;32m-> 1291\u001b[1;33m             raise ValueError(\"Target is %s but average='binary'. Please \"\n\u001b[0m\u001b[0;32m   1292\u001b[0m                              \u001b[1;34m\"choose another average setting, one of %r.\"\u001b[0m\u001b[1;33m\u001b[0m\u001b[1;33m\u001b[0m\u001b[0m\n\u001b[0;32m   1293\u001b[0m                              % (y_type, average_options))\n",
      "\u001b[1;31mValueError\u001b[0m: Target is multiclass but average='binary'. Please choose another average setting, one of [None, 'micro', 'macro', 'weighted']."
     ]
    }
   ],
   "source": [
    "rfc = RandomForestClassifier()\n",
    "rfc.fit(X_train, y_train)\n",
    "y_pred = rfc.predict(X_test)\n",
    "print(\"Accuracy:\",metrics.accuracy_score(y_test, y_pred))\n",
    "print(\"Precision:\",metrics.precision_score(y_test, y_pred))\n",
    "print(\"Recall:\",metrics.recall_score(y_test, y_pred))"
   ]
  },
  {
   "cell_type": "code",
   "execution_count": null,
   "id": "12f127c5",
   "metadata": {},
   "outputs": [],
   "source": []
  }
 ],
 "metadata": {
  "kernelspec": {
   "display_name": "Python 3",
   "language": "python",
   "name": "python3"
  },
  "language_info": {
   "codemirror_mode": {
    "name": "ipython",
    "version": 3
   },
   "file_extension": ".py",
   "mimetype": "text/x-python",
   "name": "python",
   "nbconvert_exporter": "python",
   "pygments_lexer": "ipython3",
   "version": "3.8.8"
  }
 },
 "nbformat": 4,
 "nbformat_minor": 5
}
