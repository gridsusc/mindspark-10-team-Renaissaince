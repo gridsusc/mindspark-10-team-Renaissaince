{
 "cells": [
  {
   "cell_type": "code",
   "execution_count": 32,
   "id": "fffe010b",
   "metadata": {
    "scrolled": true
   },
   "outputs": [],
   "source": [
    "import pandas as pd\n",
    "import pickle"
   ]
  },
  {
   "cell_type": "code",
   "execution_count": 25,
   "id": "6f679755",
   "metadata": {
    "scrolled": false
   },
   "outputs": [
    {
     "data": {
      "text/html": [
       "<div>\n",
       "<style scoped>\n",
       "    .dataframe tbody tr th:only-of-type {\n",
       "        vertical-align: middle;\n",
       "    }\n",
       "\n",
       "    .dataframe tbody tr th {\n",
       "        vertical-align: top;\n",
       "    }\n",
       "\n",
       "    .dataframe thead th {\n",
       "        text-align: right;\n",
       "    }\n",
       "</style>\n",
       "<table border=\"1\" class=\"dataframe\">\n",
       "  <thead>\n",
       "    <tr style=\"text-align: right;\">\n",
       "      <th></th>\n",
       "      <th>Unnamed: 0</th>\n",
       "      <th>energy</th>\n",
       "      <th>liveness</th>\n",
       "      <th>tempo</th>\n",
       "      <th>speechiness</th>\n",
       "      <th>acousticness</th>\n",
       "      <th>instrumentalness</th>\n",
       "      <th>danceability</th>\n",
       "      <th>duration_ms</th>\n",
       "      <th>loudness</th>\n",
       "      <th>valence</th>\n",
       "      <th>id</th>\n",
       "      <th>mood</th>\n",
       "    </tr>\n",
       "  </thead>\n",
       "  <tbody>\n",
       "    <tr>\n",
       "      <th>0</th>\n",
       "      <td>0</td>\n",
       "      <td>0.549</td>\n",
       "      <td>0.2200</td>\n",
       "      <td>130.749</td>\n",
       "      <td>0.0698</td>\n",
       "      <td>0.000798</td>\n",
       "      <td>0.004850</td>\n",
       "      <td>0.357</td>\n",
       "      <td>244573</td>\n",
       "      <td>-7.843</td>\n",
       "      <td>0.531</td>\n",
       "      <td>3kdMzXOcrDIdSWLdONHNK5</td>\n",
       "      <td>Energetic</td>\n",
       "    </tr>\n",
       "    <tr>\n",
       "      <th>1</th>\n",
       "      <td>1</td>\n",
       "      <td>0.975</td>\n",
       "      <td>0.1600</td>\n",
       "      <td>129.022</td>\n",
       "      <td>0.0618</td>\n",
       "      <td>0.000051</td>\n",
       "      <td>0.713000</td>\n",
       "      <td>0.594</td>\n",
       "      <td>205760</td>\n",
       "      <td>-3.210</td>\n",
       "      <td>0.899</td>\n",
       "      <td>3rFEKOClXOdNFO6fQGuQ9j</td>\n",
       "      <td>Energetic</td>\n",
       "    </tr>\n",
       "    <tr>\n",
       "      <th>2</th>\n",
       "      <td>2</td>\n",
       "      <td>0.724</td>\n",
       "      <td>0.2370</td>\n",
       "      <td>130.037</td>\n",
       "      <td>0.0313</td>\n",
       "      <td>0.000827</td>\n",
       "      <td>0.000144</td>\n",
       "      <td>0.512</td>\n",
       "      <td>198081</td>\n",
       "      <td>-5.912</td>\n",
       "      <td>0.531</td>\n",
       "      <td>4G3DWijMhNkWZwLcxnDI0H</td>\n",
       "      <td>Energetic</td>\n",
       "    </tr>\n",
       "    <tr>\n",
       "      <th>3</th>\n",
       "      <td>3</td>\n",
       "      <td>0.828</td>\n",
       "      <td>0.0600</td>\n",
       "      <td>126.037</td>\n",
       "      <td>0.0536</td>\n",
       "      <td>0.001750</td>\n",
       "      <td>0.013600</td>\n",
       "      <td>0.542</td>\n",
       "      <td>194626</td>\n",
       "      <td>-3.910</td>\n",
       "      <td>0.785</td>\n",
       "      <td>4YZVtRbdGOhHdGNi4JpCL5</td>\n",
       "      <td>Energetic</td>\n",
       "    </tr>\n",
       "    <tr>\n",
       "      <th>4</th>\n",
       "      <td>4</td>\n",
       "      <td>0.886</td>\n",
       "      <td>0.2560</td>\n",
       "      <td>161.939</td>\n",
       "      <td>0.0714</td>\n",
       "      <td>0.000029</td>\n",
       "      <td>0.000005</td>\n",
       "      <td>0.252</td>\n",
       "      <td>210560</td>\n",
       "      <td>-4.678</td>\n",
       "      <td>0.498</td>\n",
       "      <td>7GvkOFkNsM6Exnkyqeajqm</td>\n",
       "      <td>Energetic</td>\n",
       "    </tr>\n",
       "    <tr>\n",
       "      <th>...</th>\n",
       "      <td>...</td>\n",
       "      <td>...</td>\n",
       "      <td>...</td>\n",
       "      <td>...</td>\n",
       "      <td>...</td>\n",
       "      <td>...</td>\n",
       "      <td>...</td>\n",
       "      <td>...</td>\n",
       "      <td>...</td>\n",
       "      <td>...</td>\n",
       "      <td>...</td>\n",
       "      <td>...</td>\n",
       "      <td>...</td>\n",
       "    </tr>\n",
       "    <tr>\n",
       "      <th>908</th>\n",
       "      <td>95</td>\n",
       "      <td>0.786</td>\n",
       "      <td>0.4970</td>\n",
       "      <td>97.540</td>\n",
       "      <td>0.0377</td>\n",
       "      <td>0.034900</td>\n",
       "      <td>0.007670</td>\n",
       "      <td>0.635</td>\n",
       "      <td>241547</td>\n",
       "      <td>-6.460</td>\n",
       "      <td>0.305</td>\n",
       "      <td>7zkDEBSxkcBVsStS4qBFpK</td>\n",
       "      <td>Happy</td>\n",
       "    </tr>\n",
       "    <tr>\n",
       "      <th>909</th>\n",
       "      <td>96</td>\n",
       "      <td>0.845</td>\n",
       "      <td>0.3360</td>\n",
       "      <td>119.480</td>\n",
       "      <td>0.0372</td>\n",
       "      <td>0.052800</td>\n",
       "      <td>0.000000</td>\n",
       "      <td>0.639</td>\n",
       "      <td>233373</td>\n",
       "      <td>-3.333</td>\n",
       "      <td>0.871</td>\n",
       "      <td>1FHNctV68GUNLgXclG2DtR</td>\n",
       "      <td>Happy</td>\n",
       "    </tr>\n",
       "    <tr>\n",
       "      <th>910</th>\n",
       "      <td>97</td>\n",
       "      <td>0.887</td>\n",
       "      <td>0.3340</td>\n",
       "      <td>136.057</td>\n",
       "      <td>0.0565</td>\n",
       "      <td>0.060700</td>\n",
       "      <td>0.000002</td>\n",
       "      <td>0.574</td>\n",
       "      <td>229244</td>\n",
       "      <td>-6.172</td>\n",
       "      <td>0.622</td>\n",
       "      <td>4fCHoHmwmX8LgAp6A1GULJ</td>\n",
       "      <td>Happy</td>\n",
       "    </tr>\n",
       "    <tr>\n",
       "      <th>911</th>\n",
       "      <td>98</td>\n",
       "      <td>0.923</td>\n",
       "      <td>0.0879</td>\n",
       "      <td>97.874</td>\n",
       "      <td>0.0320</td>\n",
       "      <td>0.067400</td>\n",
       "      <td>0.000000</td>\n",
       "      <td>0.639</td>\n",
       "      <td>175347</td>\n",
       "      <td>-5.708</td>\n",
       "      <td>0.761</td>\n",
       "      <td>4YUlGNZfYA6EUE5KDsGqpC</td>\n",
       "      <td>Happy</td>\n",
       "    </tr>\n",
       "    <tr>\n",
       "      <th>912</th>\n",
       "      <td>99</td>\n",
       "      <td>0.710</td>\n",
       "      <td>0.5500</td>\n",
       "      <td>110.017</td>\n",
       "      <td>0.0324</td>\n",
       "      <td>0.002770</td>\n",
       "      <td>0.000000</td>\n",
       "      <td>0.673</td>\n",
       "      <td>173613</td>\n",
       "      <td>-6.744</td>\n",
       "      <td>0.540</td>\n",
       "      <td>5yNEdBlZMxpcVtGKz5NFk5</td>\n",
       "      <td>Happy</td>\n",
       "    </tr>\n",
       "  </tbody>\n",
       "</table>\n",
       "<p>913 rows × 13 columns</p>\n",
       "</div>"
      ],
      "text/plain": [
       "     Unnamed: 0  energy  liveness    tempo  speechiness  acousticness  \\\n",
       "0             0   0.549    0.2200  130.749       0.0698      0.000798   \n",
       "1             1   0.975    0.1600  129.022       0.0618      0.000051   \n",
       "2             2   0.724    0.2370  130.037       0.0313      0.000827   \n",
       "3             3   0.828    0.0600  126.037       0.0536      0.001750   \n",
       "4             4   0.886    0.2560  161.939       0.0714      0.000029   \n",
       "..          ...     ...       ...      ...          ...           ...   \n",
       "908          95   0.786    0.4970   97.540       0.0377      0.034900   \n",
       "909          96   0.845    0.3360  119.480       0.0372      0.052800   \n",
       "910          97   0.887    0.3340  136.057       0.0565      0.060700   \n",
       "911          98   0.923    0.0879   97.874       0.0320      0.067400   \n",
       "912          99   0.710    0.5500  110.017       0.0324      0.002770   \n",
       "\n",
       "     instrumentalness  danceability  duration_ms  loudness  valence  \\\n",
       "0            0.004850         0.357       244573    -7.843    0.531   \n",
       "1            0.713000         0.594       205760    -3.210    0.899   \n",
       "2            0.000144         0.512       198081    -5.912    0.531   \n",
       "3            0.013600         0.542       194626    -3.910    0.785   \n",
       "4            0.000005         0.252       210560    -4.678    0.498   \n",
       "..                ...           ...          ...       ...      ...   \n",
       "908          0.007670         0.635       241547    -6.460    0.305   \n",
       "909          0.000000         0.639       233373    -3.333    0.871   \n",
       "910          0.000002         0.574       229244    -6.172    0.622   \n",
       "911          0.000000         0.639       175347    -5.708    0.761   \n",
       "912          0.000000         0.673       173613    -6.744    0.540   \n",
       "\n",
       "                         id       mood  \n",
       "0    3kdMzXOcrDIdSWLdONHNK5  Energetic  \n",
       "1    3rFEKOClXOdNFO6fQGuQ9j  Energetic  \n",
       "2    4G3DWijMhNkWZwLcxnDI0H  Energetic  \n",
       "3    4YZVtRbdGOhHdGNi4JpCL5  Energetic  \n",
       "4    7GvkOFkNsM6Exnkyqeajqm  Energetic  \n",
       "..                      ...        ...  \n",
       "908  7zkDEBSxkcBVsStS4qBFpK      Happy  \n",
       "909  1FHNctV68GUNLgXclG2DtR      Happy  \n",
       "910  4fCHoHmwmX8LgAp6A1GULJ      Happy  \n",
       "911  4YUlGNZfYA6EUE5KDsGqpC      Happy  \n",
       "912  5yNEdBlZMxpcVtGKz5NFk5      Happy  \n",
       "\n",
       "[913 rows x 13 columns]"
      ]
     },
     "execution_count": 25,
     "metadata": {},
     "output_type": "execute_result"
    }
   ],
   "source": [
    "data = pd.read_csv(\"tracks2.csv\")\n",
    "data"
   ]
  },
  {
   "cell_type": "code",
   "execution_count": 27,
   "id": "01c2e38c",
   "metadata": {},
   "outputs": [],
   "source": [
    "from sklearn.model_selection import train_test_split\n",
    "X = data[[\"energy\", \"liveness\", \"tempo\", \"speechiness\",\"acousticness\",\"instrumentalness\",\"danceability\", \"loudness\",\"valence\"]]\n",
    "# X = data[[\"danceability\",\"energy\",\"key\",\"loudness\",\"mode\",\"speechiness\",\"acousticness\",\n",
    "# \"instrumentalness\", \"liveness\", \"valance\", \"tempo\"]]\n",
    "y = data[\"mood\"]\n",
    "X_train, X_test, y_train, y_test = train_test_split(X, y, test_size=0.33, random_state=42)"
   ]
  },
  {
   "cell_type": "code",
   "execution_count": 28,
   "id": "5c5f3d64",
   "metadata": {},
   "outputs": [
    {
     "data": {
      "text/plain": [
       "energy  liveness  tempo    speechiness  acousticness  instrumentalness  danceability  loudness  valence\n",
       "0.939   0.4910    159.932  0.0593       0.04250       0.00000           0.434         -2.983    0.569      2\n",
       "0.943   0.6530    129.003  0.0431       0.07360       0.00000           0.696         -2.962    0.833      2\n",
       "0.857   0.0726    127.656  0.1700       0.00131       0.00000           0.965         -8.458    0.951      2\n",
       "0.675   0.1810    119.898  0.0332       0.39900       0.00000           0.549         -5.637    0.206      2\n",
       "0.789   0.2140    97.520   0.0427       0.00532       0.01050           0.577         -4.661    0.149      2\n",
       "                                                                                                          ..\n",
       "0.567   0.0933    90.246   0.0828       0.05840       0.00000           0.617         -4.188    0.505      1\n",
       "        0.1800    144.021  0.0585       0.19300       0.00023           0.789         -8.501    0.725      1\n",
       "0.569   0.0460    167.202  0.0552       0.26100       0.30800           0.737         -6.702    0.912      1\n",
       "0.571   0.0912    105.049  0.0439       0.05580       0.00000           0.575         -7.906    0.449      1\n",
       "0.992   0.4530    139.974  0.3570       0.02160       0.00000           0.556          1.012    0.544      1\n",
       "Length: 600, dtype: int64"
      ]
     },
     "execution_count": 28,
     "metadata": {},
     "output_type": "execute_result"
    }
   ],
   "source": [
    "X_train.value_counts()"
   ]
  },
  {
   "cell_type": "code",
   "execution_count": 29,
   "id": "7f746d66",
   "metadata": {},
   "outputs": [
    {
     "data": {
      "text/plain": [
       "Energetic     137\n",
       "Happy         137\n",
       "Aggressive    129\n",
       "Dark          125\n",
       "Relaxing       83\n",
       "Name: mood, dtype: int64"
      ]
     },
     "execution_count": 29,
     "metadata": {},
     "output_type": "execute_result"
    }
   ],
   "source": [
    "y_train.value_counts()"
   ]
  },
  {
   "cell_type": "code",
   "execution_count": 6,
   "id": "0d1a290b",
   "metadata": {},
   "outputs": [
    {
     "data": {
      "text/plain": [
       "sad        46\n",
       "calm       34\n",
       "fearful    30\n",
       "angry      27\n",
       "happy      24\n",
       "Name: emotion, dtype: int64"
      ]
     },
     "execution_count": 6,
     "metadata": {},
     "output_type": "execute_result"
    }
   ],
   "source": [
    "y_test.value_counts()"
   ]
  },
  {
   "cell_type": "code",
   "execution_count": 7,
   "id": "ebfb48e9",
   "metadata": {},
   "outputs": [
    {
     "name": "stdout",
     "output_type": "stream",
     "text": [
      "Requirement already satisfied: xgboost in c:\\users\\truon\\anaconda3\\lib\\site-packages (1.5.0)\n",
      "Requirement already satisfied: numpy in c:\\users\\truon\\anaconda3\\lib\\site-packages (from xgboost) (1.20.1)\n",
      "Requirement already satisfied: scipy in c:\\users\\truon\\anaconda3\\lib\\site-packages (from xgboost) (1.6.2)\n"
     ]
    }
   ],
   "source": [
    "!pip install xgboost"
   ]
  },
  {
   "cell_type": "code",
   "execution_count": 8,
   "id": "24652e41",
   "metadata": {},
   "outputs": [],
   "source": [
    "from xgboost import XGBClassifier\n",
    "from sklearn.model_selection import train_test_split\n",
    "from sklearn.metrics import accuracy_score"
   ]
  },
  {
   "cell_type": "code",
   "execution_count": 30,
   "id": "b9ee8dff",
   "metadata": {
    "scrolled": false
   },
   "outputs": [
    {
     "name": "stderr",
     "output_type": "stream",
     "text": [
      "C:\\Users\\truon\\anaconda3\\lib\\site-packages\\xgboost\\sklearn.py:1224: UserWarning: The use of label encoder in XGBClassifier is deprecated and will be removed in a future release. To remove this warning, do the following: 1) Pass option use_label_encoder=False when constructing XGBClassifier object; and 2) Encode your labels (y) as integers starting with 0, i.e. 0, 1, 2, ..., [num_class - 1].\n",
      "  warnings.warn(label_encoder_deprecation_msg, UserWarning)\n"
     ]
    },
    {
     "name": "stdout",
     "output_type": "stream",
     "text": [
      "[11:07:04] WARNING: C:/Users/Administrator/workspace/xgboost-win64_release_1.5.0/src/learner.cc:1115: Starting in XGBoost 1.3.0, the default evaluation metric used with the objective 'multi:softprob' was changed from 'merror' to 'mlogloss'. Explicitly set eval_metric if you'd like to restore the old behavior.\n",
      "Accuracy: 0.6357615894039735\n"
     ]
    }
   ],
   "source": [
    "model = XGBClassifier()\n",
    "model.fit(X_train, y_train)\n",
    "# make predictions for test data\n",
    "y_pred = model.predict(X_test)\n",
    "# evaluate predictions\n",
    "print(\"Accuracy:\",metrics.accuracy_score(y_test, y_pred))"
   ]
  },
  {
   "cell_type": "code",
   "execution_count": 38,
   "id": "be70b845",
   "metadata": {},
   "outputs": [],
   "source": [
    "model.save_model(\"model.json\")"
   ]
  },
  {
   "cell_type": "code",
   "execution_count": 13,
   "id": "a5604ec8",
   "metadata": {
    "scrolled": false
   },
   "outputs": [
    {
     "data": {
      "text/html": [
       "<div>\n",
       "<style scoped>\n",
       "    .dataframe tbody tr th:only-of-type {\n",
       "        vertical-align: middle;\n",
       "    }\n",
       "\n",
       "    .dataframe tbody tr th {\n",
       "        vertical-align: top;\n",
       "    }\n",
       "\n",
       "    .dataframe thead th {\n",
       "        text-align: right;\n",
       "    }\n",
       "</style>\n",
       "<table border=\"1\" class=\"dataframe\">\n",
       "  <thead>\n",
       "    <tr style=\"text-align: right;\">\n",
       "      <th></th>\n",
       "      <th>id</th>\n",
       "      <th>danceability</th>\n",
       "      <th>energy</th>\n",
       "      <th>key</th>\n",
       "      <th>loudness</th>\n",
       "      <th>mode</th>\n",
       "      <th>speechiness</th>\n",
       "      <th>acousticness</th>\n",
       "      <th>instrumentalness</th>\n",
       "      <th>liveness</th>\n",
       "      <th>valance</th>\n",
       "      <th>tempo</th>\n",
       "    </tr>\n",
       "  </thead>\n",
       "  <tbody>\n",
       "    <tr>\n",
       "      <th>0</th>\n",
       "      <td>3jfZ9M23l0L7RxzYMTgBTv</td>\n",
       "      <td>0.682</td>\n",
       "      <td>0.900</td>\n",
       "      <td>9</td>\n",
       "      <td>-5.028</td>\n",
       "      <td>1</td>\n",
       "      <td>0.0874</td>\n",
       "      <td>0.08840</td>\n",
       "      <td>0.063000</td>\n",
       "      <td>0.0685</td>\n",
       "      <td>0.937</td>\n",
       "      <td>100.721</td>\n",
       "    </tr>\n",
       "    <tr>\n",
       "      <th>1</th>\n",
       "      <td>0UV5zxRMz6AO4ZwUOZNIKI</td>\n",
       "      <td>0.454</td>\n",
       "      <td>0.820</td>\n",
       "      <td>2</td>\n",
       "      <td>-4.193</td>\n",
       "      <td>1</td>\n",
       "      <td>0.0567</td>\n",
       "      <td>0.13200</td>\n",
       "      <td>0.000969</td>\n",
       "      <td>0.1150</td>\n",
       "      <td>0.575</td>\n",
       "      <td>166.303</td>\n",
       "    </tr>\n",
       "    <tr>\n",
       "      <th>2</th>\n",
       "      <td>118kolZnbJBQvbOl0D4C71</td>\n",
       "      <td>0.546</td>\n",
       "      <td>0.508</td>\n",
       "      <td>0</td>\n",
       "      <td>-6.301</td>\n",
       "      <td>0</td>\n",
       "      <td>0.0266</td>\n",
       "      <td>0.01510</td>\n",
       "      <td>0.001090</td>\n",
       "      <td>0.1160</td>\n",
       "      <td>0.385</td>\n",
       "      <td>153.721</td>\n",
       "    </tr>\n",
       "    <tr>\n",
       "      <th>3</th>\n",
       "      <td>5Y1KrA5SLUFxXwxZncgxLR</td>\n",
       "      <td>0.722</td>\n",
       "      <td>0.402</td>\n",
       "      <td>11</td>\n",
       "      <td>-13.194</td>\n",
       "      <td>0</td>\n",
       "      <td>0.0408</td>\n",
       "      <td>0.40300</td>\n",
       "      <td>0.000200</td>\n",
       "      <td>0.2410</td>\n",
       "      <td>0.514</td>\n",
       "      <td>109.001</td>\n",
       "    </tr>\n",
       "    <tr>\n",
       "      <th>4</th>\n",
       "      <td>2iSxljzM8Xw9EEIGBRW1CD</td>\n",
       "      <td>0.620</td>\n",
       "      <td>0.148</td>\n",
       "      <td>1</td>\n",
       "      <td>-13.124</td>\n",
       "      <td>0</td>\n",
       "      <td>0.0780</td>\n",
       "      <td>0.95400</td>\n",
       "      <td>0.000000</td>\n",
       "      <td>0.0968</td>\n",
       "      <td>0.579</td>\n",
       "      <td>114.627</td>\n",
       "    </tr>\n",
       "    <tr>\n",
       "      <th>...</th>\n",
       "      <td>...</td>\n",
       "      <td>...</td>\n",
       "      <td>...</td>\n",
       "      <td>...</td>\n",
       "      <td>...</td>\n",
       "      <td>...</td>\n",
       "      <td>...</td>\n",
       "      <td>...</td>\n",
       "      <td>...</td>\n",
       "      <td>...</td>\n",
       "      <td>...</td>\n",
       "      <td>...</td>\n",
       "    </tr>\n",
       "    <tr>\n",
       "      <th>128</th>\n",
       "      <td>2FML7gk7ac6quGFIjvkDb3</td>\n",
       "      <td>0.472</td>\n",
       "      <td>0.772</td>\n",
       "      <td>5</td>\n",
       "      <td>-5.928</td>\n",
       "      <td>1</td>\n",
       "      <td>0.0316</td>\n",
       "      <td>0.00658</td>\n",
       "      <td>0.000056</td>\n",
       "      <td>0.1320</td>\n",
       "      <td>0.600</td>\n",
       "      <td>139.993</td>\n",
       "    </tr>\n",
       "    <tr>\n",
       "      <th>129</th>\n",
       "      <td>7HKRWMTErKh56EIBeFcmdf</td>\n",
       "      <td>0.393</td>\n",
       "      <td>0.802</td>\n",
       "      <td>5</td>\n",
       "      <td>-4.499</td>\n",
       "      <td>1</td>\n",
       "      <td>0.0367</td>\n",
       "      <td>0.01680</td>\n",
       "      <td>0.000000</td>\n",
       "      <td>0.1930</td>\n",
       "      <td>0.338</td>\n",
       "      <td>140.101</td>\n",
       "    </tr>\n",
       "    <tr>\n",
       "      <th>130</th>\n",
       "      <td>1Rd5OVjqDAr5xC96MHt448</td>\n",
       "      <td>0.214</td>\n",
       "      <td>0.263</td>\n",
       "      <td>9</td>\n",
       "      <td>-13.207</td>\n",
       "      <td>0</td>\n",
       "      <td>0.0336</td>\n",
       "      <td>0.96800</td>\n",
       "      <td>0.853000</td>\n",
       "      <td>0.1260</td>\n",
       "      <td>0.113</td>\n",
       "      <td>137.561</td>\n",
       "    </tr>\n",
       "    <tr>\n",
       "      <th>131</th>\n",
       "      <td>70LcF31zb1H0PyJoS1Sx1r</td>\n",
       "      <td>0.515</td>\n",
       "      <td>0.430</td>\n",
       "      <td>7</td>\n",
       "      <td>-9.935</td>\n",
       "      <td>1</td>\n",
       "      <td>0.0372</td>\n",
       "      <td>0.00970</td>\n",
       "      <td>0.000133</td>\n",
       "      <td>0.1290</td>\n",
       "      <td>0.104</td>\n",
       "      <td>91.844</td>\n",
       "    </tr>\n",
       "    <tr>\n",
       "      <th>132</th>\n",
       "      <td>63OQupATfueTdZMWTxW03A</td>\n",
       "      <td>0.360</td>\n",
       "      <td>0.501</td>\n",
       "      <td>7</td>\n",
       "      <td>-9.129</td>\n",
       "      <td>1</td>\n",
       "      <td>0.0258</td>\n",
       "      <td>0.06380</td>\n",
       "      <td>0.000093</td>\n",
       "      <td>0.1720</td>\n",
       "      <td>0.324</td>\n",
       "      <td>74.807</td>\n",
       "    </tr>\n",
       "  </tbody>\n",
       "</table>\n",
       "<p>133 rows × 12 columns</p>\n",
       "</div>"
      ],
      "text/plain": [
       "                         id  danceability  energy  key  loudness  mode  \\\n",
       "0    3jfZ9M23l0L7RxzYMTgBTv         0.682   0.900    9    -5.028     1   \n",
       "1    0UV5zxRMz6AO4ZwUOZNIKI         0.454   0.820    2    -4.193     1   \n",
       "2    118kolZnbJBQvbOl0D4C71         0.546   0.508    0    -6.301     0   \n",
       "3    5Y1KrA5SLUFxXwxZncgxLR         0.722   0.402   11   -13.194     0   \n",
       "4    2iSxljzM8Xw9EEIGBRW1CD         0.620   0.148    1   -13.124     0   \n",
       "..                      ...           ...     ...  ...       ...   ...   \n",
       "128  2FML7gk7ac6quGFIjvkDb3         0.472   0.772    5    -5.928     1   \n",
       "129  7HKRWMTErKh56EIBeFcmdf         0.393   0.802    5    -4.499     1   \n",
       "130  1Rd5OVjqDAr5xC96MHt448         0.214   0.263    9   -13.207     0   \n",
       "131  70LcF31zb1H0PyJoS1Sx1r         0.515   0.430    7    -9.935     1   \n",
       "132  63OQupATfueTdZMWTxW03A         0.360   0.501    7    -9.129     1   \n",
       "\n",
       "     speechiness  acousticness  instrumentalness  liveness  valance    tempo  \n",
       "0         0.0874       0.08840          0.063000    0.0685    0.937  100.721  \n",
       "1         0.0567       0.13200          0.000969    0.1150    0.575  166.303  \n",
       "2         0.0266       0.01510          0.001090    0.1160    0.385  153.721  \n",
       "3         0.0408       0.40300          0.000200    0.2410    0.514  109.001  \n",
       "4         0.0780       0.95400          0.000000    0.0968    0.579  114.627  \n",
       "..           ...           ...               ...       ...      ...      ...  \n",
       "128       0.0316       0.00658          0.000056    0.1320    0.600  139.993  \n",
       "129       0.0367       0.01680          0.000000    0.1930    0.338  140.101  \n",
       "130       0.0336       0.96800          0.853000    0.1260    0.113  137.561  \n",
       "131       0.0372       0.00970          0.000133    0.1290    0.104   91.844  \n",
       "132       0.0258       0.06380          0.000093    0.1720    0.324   74.807  \n",
       "\n",
       "[133 rows x 12 columns]"
      ]
     },
     "execution_count": 13,
     "metadata": {},
     "output_type": "execute_result"
    }
   ],
   "source": [
    "user_song = pd.read_csv(\"audio_features.csv\")\n",
    "user_song"
   ]
  },
  {
   "cell_type": "code",
   "execution_count": 14,
   "id": "791c6762",
   "metadata": {},
   "outputs": [],
   "source": [
    "X_u = user_song[[\"energy\", \"liveness\", \"tempo\", \"speechiness\",\"acousticness\",\"instrumentalness\",\"danceability\", \"loudness\",\"valance\"]]"
   ]
  },
  {
   "cell_type": "code",
   "execution_count": 16,
   "id": "3021f4c5",
   "metadata": {
    "scrolled": true
   },
   "outputs": [],
   "source": [
    "y_pred = model.predict(X_u)\n",
    "y_pred = list(y_pred)"
   ]
  },
  {
   "cell_type": "code",
   "execution_count": 18,
   "id": "51899917",
   "metadata": {
    "scrolled": false
   },
   "outputs": [
    {
     "name": "stderr",
     "output_type": "stream",
     "text": [
      "<ipython-input-18-e6dc732bf904>:1: SettingWithCopyWarning: \n",
      "A value is trying to be set on a copy of a slice from a DataFrame.\n",
      "Try using .loc[row_indexer,col_indexer] = value instead\n",
      "\n",
      "See the caveats in the documentation: https://pandas.pydata.org/pandas-docs/stable/user_guide/indexing.html#returning-a-view-versus-a-copy\n",
      "  X_u[\"emotion\"] = pd.DataFrame(y_pred)\n"
     ]
    }
   ],
   "source": [
    "X_u[\"emotion\"] = pd.DataFrame(y_pred)"
   ]
  },
  {
   "cell_type": "code",
   "execution_count": 21,
   "id": "aed91ced",
   "metadata": {
    "scrolled": false
   },
   "outputs": [],
   "source": [
    "X_u.to_csv(\"results.csv\")"
   ]
  },
  {
   "cell_type": "code",
   "execution_count": null,
   "id": "e71a936e",
   "metadata": {},
   "outputs": [],
   "source": []
  },
  {
   "cell_type": "code",
   "execution_count": 10,
   "id": "fc5c45fd",
   "metadata": {},
   "outputs": [],
   "source": [
    "from sklearn.ensemble import RandomForestClassifier\n",
    "from sklearn.metrics import classification_report,accuracy_score\n",
    "from sklearn import metrics "
   ]
  },
  {
   "cell_type": "code",
   "execution_count": null,
   "id": "6c2ef8d5",
   "metadata": {},
   "outputs": [],
   "source": []
  },
  {
   "cell_type": "code",
   "execution_count": null,
   "id": "43463a6d",
   "metadata": {},
   "outputs": [],
   "source": []
  },
  {
   "cell_type": "code",
   "execution_count": null,
   "id": "98041288",
   "metadata": {},
   "outputs": [],
   "source": []
  },
  {
   "cell_type": "code",
   "execution_count": 42,
   "id": "748776a1",
   "metadata": {},
   "outputs": [
    {
     "name": "stdout",
     "output_type": "stream",
     "text": [
      "Accuracy: 0.6291390728476821\n"
     ]
    }
   ],
   "source": [
    "rfc = RandomForestClassifier()\n",
    "rfc.fit(X_train, y_train)\n",
    "y_pred = rfc.predict(X_test)\n",
    "print(\"Accuracy:\",metrics.accuracy_score(y_test, y_pred))\n",
    "pickle.dump(rfc, open(\"rfc.sav\", \"wb\"))\n"
   ]
  },
  {
   "cell_type": "code",
   "execution_count": null,
   "id": "12f127c5",
   "metadata": {},
   "outputs": [],
   "source": []
  }
 ],
 "metadata": {
  "kernelspec": {
   "display_name": "Python 3",
   "language": "python",
   "name": "python3"
  },
  "language_info": {
   "codemirror_mode": {
    "name": "ipython",
    "version": 3
   },
   "file_extension": ".py",
   "mimetype": "text/x-python",
   "name": "python",
   "nbconvert_exporter": "python",
   "pygments_lexer": "ipython3",
   "version": "3.8.8"
  }
 },
 "nbformat": 4,
 "nbformat_minor": 5
}
