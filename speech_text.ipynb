{
 "cells": [
  {
   "cell_type": "code",
   "execution_count": 1,
   "id": "ef3b8f53",
   "metadata": {},
   "outputs": [
    {
     "name": "stdout",
     "output_type": "stream",
     "text": [
      "Requirement already satisfied: SpeechRecognition in c:\\users\\horac\\anaconda3\\lib\\site-packages (3.8.1)\n",
      "Requirement already satisfied: pydub in c:\\users\\horac\\anaconda3\\lib\\site-packages (0.25.1)\n",
      "Note: you may need to restart the kernel to use updated packages.\n"
     ]
    }
   ],
   "source": [
    "pip install SpeechRecognition pydub"
   ]
  },
  {
   "cell_type": "code",
   "execution_count": 2,
   "id": "420ff590",
   "metadata": {},
   "outputs": [],
   "source": [
    "import speech_recognition as sr"
   ]
  },
  {
   "cell_type": "code",
   "execution_count": 5,
   "id": "1090fd02",
   "metadata": {},
   "outputs": [
    {
     "name": "stdout",
     "output_type": "stream",
     "text": [
      "Collecting pipwin\n",
      "  Downloading pipwin-0.5.2.tar.gz (7.9 kB)\n",
      "Collecting docopt\n",
      "  Downloading docopt-0.6.2.tar.gz (25 kB)\n",
      "Requirement already satisfied: requests in c:\\users\\horac\\anaconda3\\lib\\site-packages (from pipwin) (2.25.1)\n",
      "Collecting pyprind\n",
      "  Downloading PyPrind-2.11.3-py2.py3-none-any.whl (8.4 kB)\n",
      "Requirement already satisfied: six in c:\\users\\horac\\anaconda3\\lib\\site-packages (from pipwin) (1.15.0)\n",
      "Requirement already satisfied: beautifulsoup4>=4.9.0 in c:\\users\\horac\\anaconda3\\lib\\site-packages (from pipwin) (4.9.3)\n",
      "Collecting js2py\n",
      "  Downloading Js2Py-0.71-py3-none-any.whl (1.0 MB)\n",
      "Requirement already satisfied: packaging in c:\\users\\horac\\anaconda3\\lib\\site-packages (from pipwin) (20.9)\n",
      "Collecting pySmartDL>=1.3.1\n",
      "  Downloading pySmartDL-1.3.4-py3-none-any.whl (20 kB)\n",
      "Requirement already satisfied: soupsieve>1.2 in c:\\users\\horac\\anaconda3\\lib\\site-packages (from beautifulsoup4>=4.9.0->pipwin) (2.2.1)\n",
      "Collecting pyjsparser>=2.5.1\n",
      "  Downloading pyjsparser-2.7.1.tar.gz (24 kB)\n",
      "Requirement already satisfied: tzlocal>=1.2 in c:\\users\\horac\\anaconda3\\lib\\site-packages (from js2py->pipwin) (4.1)\n",
      "Requirement already satisfied: tzdata in c:\\users\\horac\\anaconda3\\lib\\site-packages (from tzlocal>=1.2->js2py->pipwin) (2022.1)\n",
      "Requirement already satisfied: backports.zoneinfo in c:\\users\\horac\\anaconda3\\lib\\site-packages (from tzlocal>=1.2->js2py->pipwin) (0.2.1)\n",
      "Requirement already satisfied: pytz-deprecation-shim in c:\\users\\horac\\anaconda3\\lib\\site-packages (from tzlocal>=1.2->js2py->pipwin) (0.1.0.post0)\n",
      "Requirement already satisfied: pyparsing>=2.0.2 in c:\\users\\horac\\anaconda3\\lib\\site-packages (from packaging->pipwin) (2.4.7)\n",
      "Requirement already satisfied: chardet<5,>=3.0.2 in c:\\users\\horac\\anaconda3\\lib\\site-packages (from requests->pipwin) (4.0.0)\n",
      "Requirement already satisfied: urllib3<1.27,>=1.21.1 in c:\\users\\horac\\anaconda3\\lib\\site-packages (from requests->pipwin) (1.26.4)\n",
      "Requirement already satisfied: idna<3,>=2.5 in c:\\users\\horac\\anaconda3\\lib\\site-packages (from requests->pipwin) (2.10)\n",
      "Requirement already satisfied: certifi>=2017.4.17 in c:\\users\\horac\\anaconda3\\lib\\site-packages (from requests->pipwin) (2020.12.5)\n",
      "Building wheels for collected packages: pipwin, docopt, pyjsparser\n",
      "  Building wheel for pipwin (setup.py): started\n",
      "  Building wheel for pipwin (setup.py): finished with status 'done'\n",
      "  Created wheel for pipwin: filename=pipwin-0.5.2-py2.py3-none-any.whl size=8776 sha256=29da89b61eb722fa0fcd7dc7dec12d1450355f54145870146870c521b7718d7b\n",
      "  Stored in directory: c:\\users\\horac\\appdata\\local\\pip\\cache\\wheels\\f4\\a8\\76\\372879a40d2d4dd7de23efd867ed37112687429b8d0dda4545\n",
      "  Building wheel for docopt (setup.py): started\n",
      "  Building wheel for docopt (setup.py): finished with status 'done'\n",
      "  Created wheel for docopt: filename=docopt-0.6.2-py2.py3-none-any.whl size=13705 sha256=3a46b644d516021dc76c49e78f03276bdd6cb4b2d600c7e90b912327783553be\n",
      "  Stored in directory: c:\\users\\horac\\appdata\\local\\pip\\cache\\wheels\\56\\ea\\58\\ead137b087d9e326852a851351d1debf4ada529b6ac0ec4e8c\n",
      "  Building wheel for pyjsparser (setup.py): started\n",
      "  Building wheel for pyjsparser (setup.py): finished with status 'done'\n",
      "  Created wheel for pyjsparser: filename=pyjsparser-2.7.1-py3-none-any.whl size=25998 sha256=e0bb9cc04f561712d67d83ffc9ea8d614f5548a65b6e9616e85cda8d00addc74\n",
      "  Stored in directory: c:\\users\\horac\\appdata\\local\\pip\\cache\\wheels\\d5\\88\\34\\ccb5bb40eb3178a134eb293e6c363928c5bcfba0b91031db76\n",
      "Successfully built pipwin docopt pyjsparser\n",
      "Installing collected packages: pyjsparser, pySmartDL, pyprind, js2py, docopt, pipwin\n",
      "Successfully installed docopt-0.6.2 js2py-0.71 pipwin-0.5.2 pySmartDL-1.3.4 pyjsparser-2.7.1 pyprind-2.11.3\n",
      "Note: you may need to restart the kernel to use updated packages.\n"
     ]
    }
   ],
   "source": [
    "pip install pipwin\n"
   ]
  },
  {
   "cell_type": "code",
   "execution_count": 8,
   "id": "4c2b34a2",
   "metadata": {},
   "outputs": [
    {
     "name": "stdout",
     "output_type": "stream",
     "text": [
      "Collecting package metadata (current_repodata.json): ...working... done\n",
      "Solving environment: ...working... done\n",
      "\n",
      "## Package Plan ##\n",
      "\n",
      "  environment location: C:\\Users\\horac\\anaconda3\n",
      "\n",
      "  added / updated specs:\n",
      "    - pyaudio\n",
      "\n",
      "\n",
      "The following packages will be downloaded:\n",
      "\n",
      "    package                    |            build\n",
      "    ---------------------------|-----------------\n",
      "    conda-4.12.0               |   py38haa95532_0        14.5 MB\n",
      "    portaudio-19.6.0           |       he774522_4         202 KB\n",
      "    pyaudio-0.2.11             |   py38he774522_2         206 KB\n",
      "    ------------------------------------------------------------\n",
      "                                           Total:        14.9 MB\n",
      "\n",
      "The following NEW packages will be INSTALLED:\n",
      "\n",
      "  portaudio          pkgs/main/win-64::portaudio-19.6.0-he774522_4\n",
      "  pyaudio            pkgs/main/win-64::pyaudio-0.2.11-py38he774522_2\n",
      "\n",
      "The following packages will be UPDATED:\n",
      "\n",
      "  conda                               4.10.3-py38haa95532_0 --> 4.12.0-py38haa95532_0\n",
      "\n",
      "\n",
      "\n",
      "Downloading and Extracting Packages\n",
      "\n",
      "pyaudio-0.2.11       | 206 KB    |            |   0% \n",
      "pyaudio-0.2.11       | 206 KB    | 7          |   8% \n",
      "pyaudio-0.2.11       | 206 KB    | #####4     |  54% \n",
      "pyaudio-0.2.11       | 206 KB    | ########5  |  86% \n",
      "pyaudio-0.2.11       | 206 KB    | ########## | 100% \n",
      "\n",
      "portaudio-19.6.0     | 202 KB    |            |   0% \n",
      "portaudio-19.6.0     | 202 KB    | 7          |   8% \n",
      "portaudio-19.6.0     | 202 KB    | ###9       |  40% \n",
      "portaudio-19.6.0     | 202 KB    | #######9   |  79% \n",
      "portaudio-19.6.0     | 202 KB    | ########## | 100% \n",
      "\n",
      "conda-4.12.0         | 14.5 MB   |            |   0% \n",
      "conda-4.12.0         | 14.5 MB   |            |   0% \n",
      "conda-4.12.0         | 14.5 MB   |            |   1% \n",
      "conda-4.12.0         | 14.5 MB   | 1          |   2% \n",
      "conda-4.12.0         | 14.5 MB   | 2          |   2% \n",
      "conda-4.12.0         | 14.5 MB   | 2          |   3% \n",
      "conda-4.12.0         | 14.5 MB   | 3          |   3% \n",
      "conda-4.12.0         | 14.5 MB   | 4          |   4% \n",
      "conda-4.12.0         | 14.5 MB   | 4          |   4% \n",
      "conda-4.12.0         | 14.5 MB   | 4          |   5% \n",
      "conda-4.12.0         | 14.5 MB   | 4          |   5% \n",
      "conda-4.12.0         | 14.5 MB   | 5          |   5% \n",
      "conda-4.12.0         | 14.5 MB   | 5          |   6% \n",
      "conda-4.12.0         | 14.5 MB   | 6          |   6% \n",
      "conda-4.12.0         | 14.5 MB   | 6          |   7% \n",
      "conda-4.12.0         | 14.5 MB   | 7          |   7% \n",
      "conda-4.12.0         | 14.5 MB   | 7          |   8% \n",
      "conda-4.12.0         | 14.5 MB   | 8          |   8% \n",
      "conda-4.12.0         | 14.5 MB   | 8          |   8% \n",
      "conda-4.12.0         | 14.5 MB   | 8          |   9% \n",
      "conda-4.12.0         | 14.5 MB   | 9          |   9% \n",
      "conda-4.12.0         | 14.5 MB   | 9          |  10% \n",
      "conda-4.12.0         | 14.5 MB   | 9          |  10% \n",
      "conda-4.12.0         | 14.5 MB   | #          |  10% \n",
      "conda-4.12.0         | 14.5 MB   | #          |  11% \n",
      "conda-4.12.0         | 14.5 MB   | #1         |  11% \n",
      "conda-4.12.0         | 14.5 MB   | #1         |  11% \n",
      "conda-4.12.0         | 14.5 MB   | #1         |  12% \n",
      "conda-4.12.0         | 14.5 MB   | #2         |  12% \n",
      "conda-4.12.0         | 14.5 MB   | #2         |  13% \n",
      "conda-4.12.0         | 14.5 MB   | #2         |  13% \n",
      "conda-4.12.0         | 14.5 MB   | #3         |  13% \n",
      "conda-4.12.0         | 14.5 MB   | #3         |  13% \n",
      "conda-4.12.0         | 14.5 MB   | #3         |  14% \n",
      "conda-4.12.0         | 14.5 MB   | #4         |  14% \n",
      "conda-4.12.0         | 14.5 MB   | #4         |  14% \n",
      "conda-4.12.0         | 14.5 MB   | #4         |  15% \n",
      "conda-4.12.0         | 14.5 MB   | #5         |  15% \n",
      "conda-4.12.0         | 14.5 MB   | #5         |  16% \n",
      "conda-4.12.0         | 14.5 MB   | #6         |  16% \n",
      "conda-4.12.0         | 14.5 MB   | #6         |  17% \n",
      "conda-4.12.0         | 14.5 MB   | #7         |  18% \n",
      "conda-4.12.0         | 14.5 MB   | #7         |  18% \n",
      "conda-4.12.0         | 14.5 MB   | #8         |  19% \n",
      "conda-4.12.0         | 14.5 MB   | ##         |  20% \n",
      "conda-4.12.0         | 14.5 MB   | ##         |  21% \n",
      "conda-4.12.0         | 14.5 MB   | ##1        |  21% \n",
      "conda-4.12.0         | 14.5 MB   | ##1        |  22% \n",
      "conda-4.12.0         | 14.5 MB   | ##1        |  22% \n",
      "conda-4.12.0         | 14.5 MB   | ##2        |  22% \n",
      "conda-4.12.0         | 14.5 MB   | ##2        |  23% \n",
      "conda-4.12.0         | 14.5 MB   | ##2        |  23% \n",
      "conda-4.12.0         | 14.5 MB   | ##3        |  24% \n",
      "conda-4.12.0         | 14.5 MB   | ##4        |  24% \n",
      "conda-4.12.0         | 14.5 MB   | ##4        |  25% \n",
      "conda-4.12.0         | 14.5 MB   | ##5        |  25% \n",
      "conda-4.12.0         | 14.5 MB   | ##5        |  26% \n",
      "conda-4.12.0         | 14.5 MB   | ##6        |  26% \n",
      "conda-4.12.0         | 14.5 MB   | ##6        |  27% \n",
      "conda-4.12.0         | 14.5 MB   | ##7        |  28% \n",
      "conda-4.12.0         | 14.5 MB   | ##8        |  28% \n",
      "conda-4.12.0         | 14.5 MB   | ##8        |  29% \n",
      "conda-4.12.0         | 14.5 MB   | ##9        |  29% \n",
      "conda-4.12.0         | 14.5 MB   | ##9        |  30% \n",
      "conda-4.12.0         | 14.5 MB   | ###        |  30% \n",
      "conda-4.12.0         | 14.5 MB   | ###        |  30% \n",
      "conda-4.12.0         | 14.5 MB   | ###1       |  31% \n",
      "conda-4.12.0         | 14.5 MB   | ###1       |  32% \n",
      "conda-4.12.0         | 14.5 MB   | ###2       |  32% \n",
      "conda-4.12.0         | 14.5 MB   | ###2       |  33% \n",
      "conda-4.12.0         | 14.5 MB   | ###3       |  34% \n",
      "conda-4.12.0         | 14.5 MB   | ###4       |  34% \n",
      "conda-4.12.0         | 14.5 MB   | ###4       |  35% \n",
      "conda-4.12.0         | 14.5 MB   | ###5       |  35% \n",
      "conda-4.12.0         | 14.5 MB   | ###5       |  36% \n",
      "conda-4.12.0         | 14.5 MB   | ###6       |  36% \n",
      "conda-4.12.0         | 14.5 MB   | ###6       |  37% \n",
      "conda-4.12.0         | 14.5 MB   | ###7       |  37% \n",
      "conda-4.12.0         | 14.5 MB   | ###7       |  38% \n",
      "conda-4.12.0         | 14.5 MB   | ###8       |  38% \n",
      "conda-4.12.0         | 14.5 MB   | ###9       |  39% \n",
      "conda-4.12.0         | 14.5 MB   | ###9       |  40% \n",
      "conda-4.12.0         | 14.5 MB   | ####       |  40% \n",
      "conda-4.12.0         | 14.5 MB   | ####1      |  41% \n",
      "conda-4.12.0         | 14.5 MB   | ####1      |  42% \n",
      "conda-4.12.0         | 14.5 MB   | ####2      |  42% \n",
      "conda-4.12.0         | 14.5 MB   | ####2      |  43% \n",
      "conda-4.12.0         | 14.5 MB   | ####3      |  43% \n",
      "conda-4.12.0         | 14.5 MB   | ####3      |  44% \n",
      "conda-4.12.0         | 14.5 MB   | ####4      |  44% \n",
      "conda-4.12.0         | 14.5 MB   | ####4      |  45% \n",
      "conda-4.12.0         | 14.5 MB   | ####5      |  46% \n",
      "conda-4.12.0         | 14.5 MB   | ####6      |  46% \n",
      "conda-4.12.0         | 14.5 MB   | ####6      |  47% \n",
      "conda-4.12.0         | 14.5 MB   | ####7      |  47% \n",
      "conda-4.12.0         | 14.5 MB   | ####7      |  48% \n",
      "conda-4.12.0         | 14.5 MB   | ####8      |  48% \n",
      "conda-4.12.0         | 14.5 MB   | ####8      |  49% \n",
      "conda-4.12.0         | 14.5 MB   | ####9      |  50% \n",
      "conda-4.12.0         | 14.5 MB   | #####      |  50% \n",
      "conda-4.12.0         | 14.5 MB   | #####      |  51% \n",
      "conda-4.12.0         | 14.5 MB   | #####1     |  51% \n",
      "conda-4.12.0         | 14.5 MB   | #####2     |  52% \n",
      "conda-4.12.0         | 14.5 MB   | #####2     |  53% \n",
      "conda-4.12.0         | 14.5 MB   | #####3     |  53% \n",
      "conda-4.12.0         | 14.5 MB   | #####3     |  54% \n",
      "conda-4.12.0         | 14.5 MB   | #####4     |  54% \n",
      "conda-4.12.0         | 14.5 MB   | #####4     |  55% \n",
      "conda-4.12.0         | 14.5 MB   | #####5     |  55% \n",
      "conda-4.12.0         | 14.5 MB   | #####5     |  56% \n",
      "conda-4.12.0         | 14.5 MB   | #####6     |  56% \n",
      "conda-4.12.0         | 14.5 MB   | #####6     |  57% \n",
      "conda-4.12.0         | 14.5 MB   | #####7     |  58% \n",
      "conda-4.12.0         | 14.5 MB   | #####8     |  58% \n",
      "conda-4.12.0         | 14.5 MB   | #####8     |  59% \n",
      "conda-4.12.0         | 14.5 MB   | #####9     |  59% \n",
      "conda-4.12.0         | 14.5 MB   | #####9     |  60% \n",
      "conda-4.12.0         | 14.5 MB   | ######     |  60% \n",
      "conda-4.12.0         | 14.5 MB   | ######     |  60% \n",
      "conda-4.12.0         | 14.5 MB   | ######     |  61% \n",
      "conda-4.12.0         | 14.5 MB   | ######1    |  62% \n",
      "conda-4.12.0         | 14.5 MB   | ######2    |  62% \n",
      "conda-4.12.0         | 14.5 MB   | ######2    |  62% \n",
      "conda-4.12.0         | 14.5 MB   | ######2    |  63% \n",
      "conda-4.12.0         | 14.5 MB   | ######3    |  63% \n",
      "conda-4.12.0         | 14.5 MB   | ######3    |  64% \n",
      "conda-4.12.0         | 14.5 MB   | ######4    |  64% \n",
      "conda-4.12.0         | 14.5 MB   | ######4    |  64% \n",
      "conda-4.12.0         | 14.5 MB   | ######4    |  65% \n",
      "conda-4.12.0         | 14.5 MB   | ######5    |  65% \n",
      "conda-4.12.0         | 14.5 MB   | ######5    |  66% \n",
      "conda-4.12.0         | 14.5 MB   | ######5    |  66% \n",
      "conda-4.12.0         | 14.5 MB   | ######6    |  67% \n",
      "conda-4.12.0         | 14.5 MB   | ######7    |  67% \n",
      "conda-4.12.0         | 14.5 MB   | ######7    |  68% \n",
      "conda-4.12.0         | 14.5 MB   | ######8    |  69% \n",
      "conda-4.12.0         | 14.5 MB   | ######8    |  69% \n",
      "conda-4.12.0         | 14.5 MB   | ######9    |  69% \n",
      "conda-4.12.0         | 14.5 MB   | ######9    |  70% \n",
      "conda-4.12.0         | 14.5 MB   | #######1   |  71% \n",
      "conda-4.12.0         | 14.5 MB   | #######1   |  72% \n",
      "conda-4.12.0         | 14.5 MB   | #######2   |  72% \n",
      "conda-4.12.0         | 14.5 MB   | #######3   |  73% \n",
      "conda-4.12.0         | 14.5 MB   | #######3   |  74% \n",
      "conda-4.12.0         | 14.5 MB   | #######4   |  74% \n",
      "conda-4.12.0         | 14.5 MB   | #######4   |  75% \n",
      "conda-4.12.0         | 14.5 MB   | #######5   |  76% \n",
      "conda-4.12.0         | 14.5 MB   | #######6   |  77% \n",
      "conda-4.12.0         | 14.5 MB   | #######7   |  77% \n",
      "conda-4.12.0         | 14.5 MB   | #######7   |  78% \n",
      "conda-4.12.0         | 14.5 MB   | #######8   |  78% \n",
      "conda-4.12.0         | 14.5 MB   | #######8   |  79% \n",
      "conda-4.12.0         | 14.5 MB   | #######9   |  80% \n",
      "conda-4.12.0         | 14.5 MB   | ########   |  80% \n",
      "conda-4.12.0         | 14.5 MB   | ########   |  81% \n",
      "conda-4.12.0         | 14.5 MB   | ########1  |  81% \n",
      "conda-4.12.0         | 14.5 MB   | ########1  |  82% \n",
      "conda-4.12.0         | 14.5 MB   | ########2  |  82% \n",
      "conda-4.12.0         | 14.5 MB   | ########3  |  83% \n",
      "conda-4.12.0         | 14.5 MB   | ########3  |  84% \n",
      "conda-4.12.0         | 14.5 MB   | ########4  |  84% \n",
      "conda-4.12.0         | 14.5 MB   | ########4  |  84% \n",
      "conda-4.12.0         | 14.5 MB   | ########5  |  85% \n",
      "conda-4.12.0         | 14.5 MB   | ########5  |  86% \n",
      "conda-4.12.0         | 14.5 MB   | ########6  |  86% \n",
      "conda-4.12.0         | 14.5 MB   | ########7  |  87% \n",
      "conda-4.12.0         | 14.5 MB   | ########7  |  88% \n",
      "conda-4.12.0         | 14.5 MB   | ########8  |  88% \n",
      "conda-4.12.0         | 14.5 MB   | ########8  |  89% \n",
      "conda-4.12.0         | 14.5 MB   | ########9  |  89% \n",
      "conda-4.12.0         | 14.5 MB   | ########9  |  90% \n",
      "conda-4.12.0         | 14.5 MB   | #########  |  91% \n",
      "conda-4.12.0         | 14.5 MB   | #########1 |  91% \n",
      "conda-4.12.0         | 14.5 MB   | #########1 |  92% \n",
      "conda-4.12.0         | 14.5 MB   | #########2 |  93% \n",
      "conda-4.12.0         | 14.5 MB   | #########3 |  94% \n",
      "conda-4.12.0         | 14.5 MB   | #########5 |  95% \n",
      "conda-4.12.0         | 14.5 MB   | #########5 |  96% \n",
      "conda-4.12.0         | 14.5 MB   | #########6 |  96% \n",
      "conda-4.12.0         | 14.5 MB   | #########6 |  97% \n",
      "conda-4.12.0         | 14.5 MB   | #########7 |  97% \n",
      "conda-4.12.0         | 14.5 MB   | #########7 |  98% \n",
      "conda-4.12.0         | 14.5 MB   | #########8 |  98% \n",
      "conda-4.12.0         | 14.5 MB   | #########8 |  98% \n",
      "conda-4.12.0         | 14.5 MB   | #########8 |  99% \n",
      "conda-4.12.0         | 14.5 MB   | #########9 |  99% \n",
      "conda-4.12.0         | 14.5 MB   | #########9 | 100% \n",
      "conda-4.12.0         | 14.5 MB   | ########## | 100% \n",
      "Preparing transaction: ...working... done\n",
      "Verifying transaction: ...working... done\n",
      "Executing transaction: ...working... done\n",
      "\n",
      "Note: you may need to restart the kernel to use updated packages.\n"
     ]
    }
   ],
   "source": [
    "conda install pyaudio"
   ]
  },
  {
   "cell_type": "code",
   "execution_count": 12,
   "id": "ed46ae64",
   "metadata": {},
   "outputs": [
    {
     "name": "stdout",
     "output_type": "stream",
     "text": [
      "Recognizing...\n",
      "{'alternative': [{'transcript': 'Halo', 'confidence': 0.88331395}, {'transcript': 'Hollow'}, {'transcript': 'hallo'}], 'final': True}\n"
     ]
    }
   ],
   "source": [
    "r = sr.Recognizer()\n",
    "with sr.Microphone() as source:\n",
    "    # read the audio data from the default microphone\n",
    "    audio_data = r.record(source, duration=5)\n",
    "    print(\"Recognizing...\")\n",
    "    # convert speech to text\n",
    "    text = r.recognize_google(audio_data, language = 'en-US', show_all=True)\n",
    "    \n",
    "    print(text)"
   ]
  },
  {
   "cell_type": "code",
   "execution_count": 20,
   "id": "5aa3088e",
   "metadata": {},
   "outputs": [
    {
     "data": {
      "text/plain": [
       "'Halo'"
      ]
     },
     "execution_count": 20,
     "metadata": {},
     "output_type": "execute_result"
    }
   ],
   "source": [
    "text['alternative'][0]['transcript']"
   ]
  },
  {
   "cell_type": "code",
   "execution_count": 21,
   "id": "b319b1cb",
   "metadata": {},
   "outputs": [],
   "source": [
    "from transformers import pipeline"
   ]
  },
  {
   "cell_type": "code",
   "execution_count": 22,
   "id": "23d53e7d",
   "metadata": {},
   "outputs": [
    {
     "data": {
      "application/vnd.jupyter.widget-view+json": {
       "model_id": "85d3313cc7134751aa0d18c1b39d14f7",
       "version_major": 2,
       "version_minor": 0
      },
      "text/plain": [
       "Downloading:   0%|          | 0.00/1.68k [00:00<?, ?B/s]"
      ]
     },
     "metadata": {},
     "output_type": "display_data"
    },
    {
     "data": {
      "application/vnd.jupyter.widget-view+json": {
       "model_id": "6d54454804f342c4aa3a5033f3646099",
       "version_major": 2,
       "version_minor": 0
      },
      "text/plain": [
       "Downloading:   0%|          | 0.00/478M [00:00<?, ?B/s]"
      ]
     },
     "metadata": {},
     "output_type": "display_data"
    },
    {
     "name": "stderr",
     "output_type": "stream",
     "text": [
      "All model checkpoint layers were used when initializing TFRobertaForSequenceClassification.\n",
      "\n",
      "All the layers of TFRobertaForSequenceClassification were initialized from the model checkpoint at arpanghoshal/EmoRoBERTa.\n",
      "If your task is similar to the task the model of the checkpoint was trained on, you can already use TFRobertaForSequenceClassification for predictions without further training.\n"
     ]
    },
    {
     "data": {
      "application/vnd.jupyter.widget-view+json": {
       "model_id": "53725cb09ee4415e8bd6bf9294c7ff04",
       "version_major": 2,
       "version_minor": 0
      },
      "text/plain": [
       "Downloading:   0%|          | 0.00/25.0 [00:00<?, ?B/s]"
      ]
     },
     "metadata": {},
     "output_type": "display_data"
    },
    {
     "data": {
      "application/vnd.jupyter.widget-view+json": {
       "model_id": "aeb9f00b3b49486cb93b887d112e8962",
       "version_major": 2,
       "version_minor": 0
      },
      "text/plain": [
       "Downloading:   0%|          | 0.00/780k [00:00<?, ?B/s]"
      ]
     },
     "metadata": {},
     "output_type": "display_data"
    },
    {
     "data": {
      "application/vnd.jupyter.widget-view+json": {
       "model_id": "53133f8d897e45a68d49a42bbfaba4fc",
       "version_major": 2,
       "version_minor": 0
      },
      "text/plain": [
       "Downloading:   0%|          | 0.00/446k [00:00<?, ?B/s]"
      ]
     },
     "metadata": {},
     "output_type": "display_data"
    },
    {
     "data": {
      "application/vnd.jupyter.widget-view+json": {
       "model_id": "db11410ecea84c71b6a9d23bf56ce9c8",
       "version_major": 2,
       "version_minor": 0
      },
      "text/plain": [
       "Downloading:   0%|          | 0.00/239 [00:00<?, ?B/s]"
      ]
     },
     "metadata": {},
     "output_type": "display_data"
    }
   ],
   "source": [
    "emotion = pipeline('sentiment-analysis', model='arpanghoshal/EmoRoBERTa')"
   ]
  },
  {
   "cell_type": "code",
   "execution_count": 24,
   "id": "591ca971",
   "metadata": {},
   "outputs": [
    {
     "name": "stdout",
     "output_type": "stream",
     "text": [
      "[{'label': 'neutral', 'score': 0.9974702596664429}]\n"
     ]
    }
   ],
   "source": [
    "emotion_labels = emotion(text['alternative'][0]['transcript'])\n",
    "print(emotion_labels)"
   ]
  },
  {
   "cell_type": "code",
   "execution_count": null,
   "id": "9197e734",
   "metadata": {},
   "outputs": [],
   "source": []
  }
 ],
 "metadata": {
  "kernelspec": {
   "display_name": "Python 3",
   "language": "python",
   "name": "python3"
  },
  "language_info": {
   "codemirror_mode": {
    "name": "ipython",
    "version": 3
   },
   "file_extension": ".py",
   "mimetype": "text/x-python",
   "name": "python",
   "nbconvert_exporter": "python",
   "pygments_lexer": "ipython3",
   "version": "3.8.8"
  }
 },
 "nbformat": 4,
 "nbformat_minor": 5
}
